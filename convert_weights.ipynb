{
 "cells": [
  {
   "cell_type": "code",
   "execution_count": 1,
   "id": "0a6b5c73-e099-418d-b182-70d57d9f90af",
   "metadata": {},
   "outputs": [],
   "source": [
    "import torch"
   ]
  },
  {
   "cell_type": "code",
   "execution_count": 4,
   "id": "e9cab132-d3fb-476f-9f65-3879b3eeecd6",
   "metadata": {},
   "outputs": [],
   "source": [
    "a = torch.load(\"./weights/original/30B/consolidated.00.pth\", map_location=\"cpu\")\n",
    "b = torch.load(\"./weights/original/30B/consolidated.01.pth\", map_location=\"cpu\")\n",
    "c = torch.load(\"./weights/original/30B/consolidated.02.pth\", map_location=\"cpu\")\n",
    "d = torch.load(\"./weights/original/30B/consolidated.03.pth\", map_location=\"cpu\")"
   ]
  },
  {
   "cell_type": "code",
   "execution_count": null,
   "id": "603e7f23-a3af-4da8-a57f-eec9820483c3",
   "metadata": {
    "tags": []
   },
   "outputs": [],
   "source": [
    "import torch\n",
    "# 데이터 불러오기\n",
    "a = torch.load(\"./weights/original/30B/consolidated.00.pth\", map_location=\"cpu\")\n",
    "b = torch.load(\"./weights/original/30B/consolidated.01.pth\", map_location=\"cpu\")\n",
    "c = torch.load(\"./weights/original/30B/consolidated.02.pth\", map_location=\"cpu\")\n",
    "d = torch.load(\"./weights/original/30B/consolidated.03.pth\", map_location=\"cpu\")\n",
    "\n",
    "# 모든 weight 모음\n",
    "weights = [a, b, c, d]\n",
    "\n",
    "num_layers = 60\n",
    "\n",
    "for weight in weights:\n",
    "    # Attention weights 합치기\n",
    "    for i in range(num_layers):  # 0부터 15까지의 layer 번호 가정\n",
    "        prefix = f'layers.{i}.attention.'\n",
    "        wq = weight[prefix + 'wq.weight']\n",
    "        wk = weight[prefix + 'wk.weight']\n",
    "        wv = weight[prefix + 'wv.weight']\n",
    "        \n",
    "        wattn = torch.cat([wq, wk, wv], dim=0)\n",
    "        weight[prefix + 'wattn.weight'] = wattn.cpu()\n",
    "\n",
    "        # 기존의 weights 삭제\n",
    "        del weight[prefix + 'wq.weight']\n",
    "        del weight[prefix + 'wk.weight']\n",
    "        del weight[prefix + 'wv.weight']\n",
    "\n",
    "    # Feed Forward weights 합치기\n",
    "    for i in range(num_layers):  # 0부터 15까지의 layer 번호 가정\n",
    "        prefix = f'layers.{i}.feed_forward.'\n",
    "        w1 = weight[prefix + 'w1.weight']\n",
    "        w3 = weight[prefix + 'w3.weight']\n",
    "        \n",
    "        wff = torch.cat([w1, w3], dim=0)\n",
    "        weight[prefix + 'wff.weight'] = wff.cpu()\n",
    "\n",
    "        # 기존의 weights 삭제\n",
    "        del weight[prefix + 'w1.weight']\n",
    "        del weight[prefix + 'w3.weight']\n",
    "\n",
    "# 모든 weights에 대해 tok_embeddings 합치기\n",
    "tok_emb_total = torch.cat([w['tok_embeddings.weight'] for w in weights], dim=-1)\n",
    "\n",
    "# 각 weight dictionary에 동일한 값 저장\n",
    "for weight in weights:\n",
    "    weight['tok_embeddings.weight'] = tok_emb_total\n",
    "\n",
    "\n",
    "# 저장하기\n",
    "torch.save(a, \"./weights/modified/30B/consolidated.00.pth\")\n",
    "torch.save(b, \"./weights/modified/30B/consolidated.01.pth\")\n",
    "torch.save(c, \"./weights/modified/30B/consolidated.02.pth\")\n",
    "torch.save(d, \"./weights/modified/30B/consolidated.03.pth\")\n",
    "\n",
    "import shutil\n",
    "\n",
    "shutil.copy2(\"./weights/original/30B/params.json\", \"./weights/modified/30B/params.json\")"
   ]
  },
  {
   "cell_type": "code",
   "execution_count": 9,
   "id": "7b71925a-7a8d-485c-a23d-de4966030a02",
   "metadata": {},
   "outputs": [
    {
     "data": {
      "text/plain": [
       "'./weights/modified/30B/params.json'"
      ]
     },
     "execution_count": 9,
     "metadata": {},
     "output_type": "execute_result"
    }
   ],
   "source": []
  },
  {
   "cell_type": "code",
   "execution_count": 3,
   "id": "6b05d2e4-817c-45f0-bdee-5bdc96209327",
   "metadata": {},
   "outputs": [],
   "source": [
    "test = torch.load(\"./weights/modified/30B/consolidated.00.pth\")"
   ]
  },
  {
   "cell_type": "code",
   "execution_count": 4,
   "id": "262df5a2-b8cb-4af7-bd77-19e98987f6a8",
   "metadata": {},
   "outputs": [],
   "source": [
    "test2 = torch.load(\"./weights/original/30B/consolidated.00.pth\", map_location=\"cpu\")"
   ]
  },
  {
   "cell_type": "code",
   "execution_count": 10,
   "id": "5813deed-53e2-4b2c-888a-05a35b1d399f",
   "metadata": {},
   "outputs": [
    {
     "data": {
      "text/plain": [
       "torch.Size([32000, 1664])"
      ]
     },
     "execution_count": 10,
     "metadata": {},
     "output_type": "execute_result"
    }
   ],
   "source": [
    "test2['tok_embeddings.weight'].shape"
   ]
  }
 ],
 "metadata": {
  "kernelspec": {
   "display_name": "Python 3 (ipykernel)",
   "language": "python",
   "name": "python3"
  },
  "language_info": {
   "codemirror_mode": {
    "name": "ipython",
    "version": 3
   },
   "file_extension": ".py",
   "mimetype": "text/x-python",
   "name": "python",
   "nbconvert_exporter": "python",
   "pygments_lexer": "ipython3",
   "version": "3.10.12"
  }
 },
 "nbformat": 4,
 "nbformat_minor": 5
}
