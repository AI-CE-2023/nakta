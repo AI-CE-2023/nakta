{
 "cells": [
  {
   "cell_type": "code",
   "execution_count": 1,
   "id": "7176c783",
   "metadata": {},
   "outputs": [],
   "source": [
    "import torch"
   ]
  },
  {
   "cell_type": "code",
   "execution_count": 2,
   "id": "c4a8986a",
   "metadata": {},
   "outputs": [],
   "source": [
    "a = torch.load(\"./weights/round2/30B/consolidated.01.pth\")"
   ]
  },
  {
   "cell_type": "code",
   "execution_count": 3,
   "id": "d2dae8ec",
   "metadata": {},
   "outputs": [],
   "source": [
    "from nakta_model2 import LLaMA, ModelArgs, Tokenizer, Transformer, Embedder"
   ]
  },
  {
   "cell_type": "code",
   "execution_count": 7,
   "id": "17005bf6",
   "metadata": {},
   "outputs": [],
   "source": [
    "from pathlib import Path\n",
    "import json"
   ]
  },
  {
   "cell_type": "code",
   "execution_count": 8,
   "id": "f666aa4c",
   "metadata": {},
   "outputs": [],
   "source": [
    "ckpt_dir = \"./weights/round2/30B\"\n",
    "with open(Path(ckpt_dir) / \"params.json\", \"r\") as f:\n",
    "    params = json.loads(f.read())"
   ]
  },
  {
   "cell_type": "code",
   "execution_count": 9,
   "id": "3e9da704",
   "metadata": {},
   "outputs": [],
   "source": [
    "model_args: ModelArgs = ModelArgs(**params)"
   ]
  },
  {
   "cell_type": "code",
   "execution_count": null,
   "id": "932b1276",
   "metadata": {},
   "outputs": [],
   "source": []
  }
 ],
 "metadata": {
  "kernelspec": {
   "display_name": "Python 3 (ipykernel)",
   "language": "python",
   "name": "python3"
  },
  "language_info": {
   "codemirror_mode": {
    "name": "ipython",
    "version": 3
   },
   "file_extension": ".py",
   "mimetype": "text/x-python",
   "name": "python",
   "nbconvert_exporter": "python",
   "pygments_lexer": "ipython3",
   "version": "3.10.6"
  }
 },
 "nbformat": 4,
 "nbformat_minor": 5
}
