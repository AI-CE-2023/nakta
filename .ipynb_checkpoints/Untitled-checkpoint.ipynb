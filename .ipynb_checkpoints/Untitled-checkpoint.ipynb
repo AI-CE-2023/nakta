{
 "cells": [
  {
   "cell_type": "code",
   "execution_count": 1,
   "id": "e3eb2067",
   "metadata": {},
   "outputs": [],
   "source": [
    "import torch"
   ]
  },
  {
   "cell_type": "code",
   "execution_count": null,
   "id": "f937fb44",
   "metadata": {},
   "outputs": [],
   "source": [
    "a = torch.load(\"./weights/round2/30B/consolidated.01.pth\")"
   ]
  }
 ],
 "metadata": {
  "kernelspec": {
   "display_name": "Python 3 (ipykernel)",
   "language": "python",
   "name": "python3"
  },
  "language_info": {
   "codemirror_mode": {
    "name": "ipython",
    "version": 3
   },
   "file_extension": ".py",
   "mimetype": "text/x-python",
   "name": "python",
   "nbconvert_exporter": "python",
   "pygments_lexer": "ipython3",
   "version": "3.10.6"
  }
 },
 "nbformat": 4,
 "nbformat_minor": 5
}
